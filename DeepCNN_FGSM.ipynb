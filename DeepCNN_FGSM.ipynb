{
  "nbformat": 4,
  "nbformat_minor": 0,
  "metadata": {
    "colab": {
      "provenance": []
    },
    "kernelspec": {
      "name": "python3",
      "display_name": "Python 3"
    },
    "language_info": {
      "name": "python"
    }
  },
  "cells": [
    {
      "cell_type": "markdown",
      "source": [
        "#Import Libraries"
      ],
      "metadata": {
        "id": "mw3uZJqWHqiW"
      }
    },
    {
      "cell_type": "code",
      "execution_count": null,
      "metadata": {
        "id": "l7ezQrKgHhjU"
      },
      "outputs": [],
      "source": [
        "import torch\n",
        "import torch.nn as nn\n",
        "import torch.optim as optim\n",
        "from torchvision import datasets, transforms\n",
        "from torch.utils.data import DataLoader, TensorDataset"
      ]
    },
    {
      "cell_type": "markdown",
      "source": [
        "#Data Downloading and Feature-Target Separation"
      ],
      "metadata": {
        "id": "9p5uu_W0H61m"
      }
    },
    {
      "cell_type": "code",
      "source": [
        "# Define the transformations\n",
        "transform = transforms.Compose([\n",
        "    transforms.ToTensor(),\n",
        "    transforms.Normalize((0.5,), (0.5,))\n",
        "])\n",
        "\n",
        "# Load the MNIST dataset\n",
        "train_dataset = datasets.MNIST(root='./data', train=True, transform=transform, download=True)\n",
        "test_dataset = datasets.MNIST(root='./data', train=False, transform=transform, download=True)\n",
        "\n",
        "# Prepare the features and targets\n",
        "train_features = train_dataset.data.unsqueeze(1).float() / 255.0\n",
        "train_targets = train_dataset.targets\n",
        "test_features = test_dataset.data.unsqueeze(1).float() / 255.0\n",
        "test_targets = test_dataset.targets\n",
        "\n",
        "# Normalize the data\n",
        "train_features = (train_features - 0.5) / 0.5\n",
        "test_features = (test_features - 0.5) / 0.5\n"
      ],
      "metadata": {
        "id": "RQp0Od8TH91-"
      },
      "execution_count": null,
      "outputs": []
    },
    {
      "cell_type": "markdown",
      "source": [
        "#FGSM attack"
      ],
      "metadata": {
        "id": "1FD0FcLmH_1l"
      }
    },
    {
      "cell_type": "markdown",
      "source": [
        "Fast Gradient Sign Method (FGSM) attack perturbs input images based on the gradient of the loss concerning the input.It is a single-step attack with perturbation controlled by epsilon"
      ],
      "metadata": {
        "id": "M7ONgNQYICrG"
      }
    },
    {
      "cell_type": "code",
      "source": [
        "# Define the FGSM attack function\n",
        "def fgsm_attack(model, images, labels, eps=0.3):\n",
        "    model.eval()\n",
        "    images = images.to(device)\n",
        "    labels = labels.to(device)\n",
        "    images.requires_grad = True\n",
        "\n",
        "    # Forward pass\n",
        "    outputs = model(images)\n",
        "    loss = nn.CrossEntropyLoss()(outputs, labels)\n",
        "\n",
        "    # Backward pass\n",
        "    model.zero_grad()\n",
        "    loss.backward()\n",
        "\n",
        "    # Generate adversarial examples\n",
        "    adv_images = images + eps * images.grad.sign()\n",
        "    adv_images = torch.clamp(adv_images, min=0, max=1).detach()\n",
        "    return adv_images"
      ],
      "metadata": {
        "id": "1UMLGl3tIGwT"
      },
      "execution_count": null,
      "outputs": []
    },
    {
      "cell_type": "markdown",
      "source": [
        "#Deep CNN model"
      ],
      "metadata": {
        "id": "xpjEm5Y6IIQq"
      }
    },
    {
      "cell_type": "markdown",
      "source": [
        "This is a bit different from PGD since FGSM is a single step attack, we are using 3 convolutional layers with ReLU activation and max-pooling for feature extraction."
      ],
      "metadata": {
        "id": "X5XN9iJ5IOQR"
      }
    },
    {
      "cell_type": "code",
      "source": [
        "# Define a deeper CNN model\n",
        "class DeepCNN(nn.Module):\n",
        "    def __init__(self):\n",
        "        super(DeepCNN, self).__init__()\n",
        "        self.conv1 = nn.Conv2d(1, 64, kernel_size=3, padding=1)  # Output: 28x28x64\n",
        "        self.relu1 = nn.ReLU()\n",
        "        self.conv2 = nn.Conv2d(64, 128, kernel_size=3, padding=1)  # Output: 28x28x128\n",
        "        self.relu2 = nn.ReLU()\n",
        "        self.pool1 = nn.MaxPool2d(kernel_size=2, stride=2)  # Output: 14x14x128\n",
        "\n",
        "        self.conv3 = nn.Conv2d(128, 256, kernel_size=3, padding=1)  # Output: 14x14x256\n",
        "        self.relu3 = nn.ReLU()\n",
        "        self.pool2 = nn.MaxPool2d(kernel_size=2, stride=2)  # Output: 7x7x256\n",
        "\n",
        "        self.fc1 = nn.Linear(7 * 7 * 256, 1024)\n",
        "        self.relu4 = nn.ReLU()\n",
        "        self.fc2 = nn.Linear(1024, 512)\n",
        "        self.relu5 = nn.ReLU()\n",
        "        self.fc3 = nn.Linear(512, 10)\n",
        "\n",
        "    def forward(self, x):\n",
        "        x = self.relu1(self.conv1(x))\n",
        "        x = self.relu2(self.conv2(x))\n",
        "        x = self.pool1(x)\n",
        "        x = self.relu3(self.conv3(x))\n",
        "        x = self.pool2(x)\n",
        "        x = x.view(-1, 7 * 7 * 256)  # Flatten\n",
        "        x = self.relu4(self.fc1(x))\n",
        "        x = self.relu5(self.fc2(x))\n",
        "        x = self.fc3(x)\n",
        "        return x\n"
      ],
      "metadata": {
        "id": "_7v6QRduILKT"
      },
      "execution_count": null,
      "outputs": []
    },
    {
      "cell_type": "markdown",
      "source": [
        "#Initialize model"
      ],
      "metadata": {
        "id": "y9p-l_ynIah-"
      }
    },
    {
      "cell_type": "code",
      "source": [
        "# Initialize the model, device, and optimizer\n",
        "device = torch.device(\"cuda\" if torch.cuda.is_available() else \"cpu\")\n",
        "model = DeepCNN().to(device)\n",
        "optimizer = optim.Adam(model.parameters(), lr=0.001)\n",
        "criterion = nn.CrossEntropyLoss()\n"
      ],
      "metadata": {
        "id": "XClizLk5Idu2"
      },
      "execution_count": null,
      "outputs": []
    },
    {
      "cell_type": "markdown",
      "source": [
        "#New Dataset"
      ],
      "metadata": {
        "id": "WeT3WmF8IgQR"
      }
    },
    {
      "cell_type": "code",
      "source": [
        "# Generate a new dataset with FGSM attack\n",
        "def generate_fgsm_dataset(model, features, targets, eps=0.3):\n",
        "    original_features = features.clone()\n",
        "    targets = targets.clone()\n",
        "\n",
        "    perturbed_features = []\n",
        "    batch_size = 128\n",
        "    model.eval()\n",
        "\n",
        "    for i in range(0, len(features), batch_size):\n",
        "        batch_features = features[i:i + batch_size].to(device)\n",
        "        batch_targets = targets[i:i + batch_size].to(device)\n",
        "        perturbed_batch = fgsm_attack(model, batch_features, batch_targets, eps)\n",
        "        perturbed_features.append(perturbed_batch.cpu())\n",
        "\n",
        "    perturbed_features = torch.cat(perturbed_features, dim=0)\n",
        "\n",
        "    combined_features = torch.cat([original_features, perturbed_features], dim=0)\n",
        "    combined_targets = torch.cat([targets, targets], dim=0)\n",
        "\n",
        "    return TensorDataset(combined_features, combined_targets)\n"
      ],
      "metadata": {
        "id": "75vxOUI5IjG3"
      },
      "execution_count": null,
      "outputs": []
    },
    {
      "cell_type": "code",
      "source": [
        "# Generate perturbed training and testing datasets\n",
        "new_train_dataset = generate_fgsm_dataset(model, train_features, train_targets, eps=0.3)\n",
        "new_test_dataset = generate_fgsm_dataset(model, test_features, test_targets, eps=0.3)\n",
        "\n",
        "# Create DataLoader for both new training and testing datasets\n",
        "new_train_loader = DataLoader(new_train_dataset, batch_size=64, shuffle=True)\n",
        "new_test_loader = DataLoader(new_test_dataset, batch_size=64, shuffle=False)\n"
      ],
      "metadata": {
        "id": "cqWjpSRgImZm"
      },
      "execution_count": null,
      "outputs": []
    },
    {
      "cell_type": "markdown",
      "source": [
        "#Training new data set"
      ],
      "metadata": {
        "id": "WGwVz-q5IoqY"
      }
    },
    {
      "cell_type": "code",
      "source": [
        "\n",
        "# Define the training function\n",
        "def train_model(model, train_loader, epochs=5):\n",
        "    model.train()\n",
        "    for epoch in range(epochs):\n",
        "        epoch_loss = 0\n",
        "        correct = 0\n",
        "        total = 0\n",
        "\n",
        "        for data, target in train_loader:\n",
        "            data, target = data.to(device), target.to(device)\n",
        "\n",
        "            optimizer.zero_grad()\n",
        "            outputs = model(data)\n",
        "            loss = criterion(outputs, target)\n",
        "            loss.backward()\n",
        "            optimizer.step()\n",
        "\n",
        "            epoch_loss += loss.item()\n",
        "            _, predicted = outputs.max(1)\n",
        "            total += target.size(0)\n",
        "            correct += predicted.eq(target).sum().item()\n",
        "\n",
        "        print(f\"Epoch {epoch + 1}: Loss = {epoch_loss:.4f}, Accuracy = {100. * correct / total:.2f}%\")\n",
        "\n",
        "# Train the model\n",
        "train_model(model, new_train_loader, epochs=5)\n",
        "\n"
      ],
      "metadata": {
        "colab": {
          "base_uri": "https://localhost:8080/"
        },
        "id": "OsYeFCJEIqO1",
        "outputId": "8c897eb3-a804-4680-8bf9-45700e1b533a"
      },
      "execution_count": null,
      "outputs": [
        {
          "output_type": "stream",
          "name": "stdout",
          "text": [
            "Epoch 1: Loss = 176.1927, Accuracy = 97.06%\n",
            "Epoch 2: Loss = 54.9552, Accuracy = 99.12%\n",
            "Epoch 3: Loss = 36.6784, Accuracy = 99.44%\n",
            "Epoch 4: Loss = 27.3101, Accuracy = 99.58%\n",
            "Epoch 5: Loss = 23.0498, Accuracy = 99.69%\n"
          ]
        }
      ]
    },
    {
      "cell_type": "code",
      "source": [
        "def train_model_with_epsilon(model, train_loader, epsilon_values, epochs=5):\n",
        "    model.train()\n",
        "    for epsilon in epsilon_values:\n",
        "        print(f\"\\nTraining with epsilon = {epsilon:.2f}\")\n",
        "\n",
        "        for epoch in range(epochs):\n",
        "            epoch_loss = 0\n",
        "            correct = 0\n",
        "            total = 0\n",
        "\n",
        "            for data, target in train_loader:\n",
        "                data, target = data.to(device), target.to(device)\n",
        "\n",
        "                # Apply adversarial perturbation based on epsilon\n",
        "                perturbed_data = data + epsilon * torch.randn_like(data).to(device)\n",
        "\n",
        "                optimizer.zero_grad()\n",
        "                outputs = model(perturbed_data)\n",
        "                loss = criterion(outputs, target)\n",
        "                loss.backward()\n",
        "                optimizer.step()\n",
        "\n",
        "                epoch_loss += loss.item()\n",
        "                _, predicted = outputs.max(1)\n",
        "                total += target.size(0)\n",
        "                correct += predicted.eq(target).sum().item()\n",
        "\n",
        "            print(f\"Epoch {epoch + 1}: Loss = {epoch_loss:.4f}, Accuracy = {100. * correct / total:.2f}%\")\n"
      ],
      "metadata": {
        "id": "DaMYod-xTiyB"
      },
      "execution_count": null,
      "outputs": []
    },
    {
      "cell_type": "code",
      "source": [
        "epsilon_values = [0.1, 0.2, 0.3]\n",
        "train_model_with_epsilon(model, new_train_loader, epsilon_values, epochs=5)\n"
      ],
      "metadata": {
        "colab": {
          "base_uri": "https://localhost:8080/"
        },
        "id": "MC9wq2hcT0qO",
        "outputId": "85c4fec9-1093-4c10-d253-ef95b44bf2d9"
      },
      "execution_count": null,
      "outputs": [
        {
          "output_type": "stream",
          "name": "stdout",
          "text": [
            "\n",
            "Training with epsilon = 0.10\n",
            "Epoch 1: Loss = 22.6636, Accuracy = 99.68%\n",
            "Epoch 2: Loss = 18.7704, Accuracy = 99.73%\n",
            "Epoch 3: Loss = 18.1768, Accuracy = 99.77%\n",
            "Epoch 4: Loss = 14.4515, Accuracy = 99.80%\n",
            "Epoch 5: Loss = 12.4965, Accuracy = 99.83%\n",
            "\n",
            "Training with epsilon = 0.20\n",
            "Epoch 1: Loss = 27.5962, Accuracy = 99.63%\n",
            "Epoch 2: Loss = 16.5941, Accuracy = 99.75%\n",
            "Epoch 3: Loss = 19.0641, Accuracy = 99.74%\n",
            "Epoch 4: Loss = 16.0915, Accuracy = 99.77%\n",
            "Epoch 5: Loss = 18.5043, Accuracy = 99.76%\n",
            "\n",
            "Training with epsilon = 0.30\n",
            "Epoch 1: Loss = 38.4173, Accuracy = 99.42%\n",
            "Epoch 2: Loss = 29.4935, Accuracy = 99.55%\n",
            "Epoch 3: Loss = 28.9787, Accuracy = 99.56%\n",
            "Epoch 4: Loss = 27.1358, Accuracy = 99.58%\n",
            "Epoch 5: Loss = 24.9287, Accuracy = 99.64%\n"
          ]
        }
      ]
    },
    {
      "cell_type": "code",
      "source": [
        "import matplotlib.pyplot as plt\n",
        "\n",
        "# Accuracy data for each epsilon value\n",
        "epsilon_values = [0.10, 0.20, 0.30]\n",
        "accuracies = [99.83, 99.76, 99.64]  # The accuracy values you provided for each epsilon\n",
        "\n",
        "# Plotting epsilon vs accuracy\n",
        "plt.figure(figsize=(8, 6))\n",
        "plt.plot(epsilon_values, accuracies, marker='o', linestyle='-', color='b', label='Accuracy')\n",
        "\n",
        "# Labeling the axes\n",
        "plt.xlabel('Epsilon')\n",
        "plt.ylabel('Accuracy (%)')\n",
        "plt.title('Epsilon vs Accuracy for DeepCNN-FGSM')\n",
        "\n",
        "# Adding gridlines and a legend\n",
        "plt.grid(True)\n",
        "plt.legend()\n",
        "\n",
        "# Display the plot\n",
        "plt.show()\n"
      ],
      "metadata": {
        "colab": {
          "base_uri": "https://localhost:8080/",
          "height": 564
        },
        "id": "3cE22g7MXUP9",
        "outputId": "476967fa-ce2e-4e3c-9f08-3da66cb8d212"
      },
      "execution_count": null,
      "outputs": [
        {
          "output_type": "display_data",
          "data": {
            "text/plain": [
              "<Figure size 800x600 with 1 Axes>"
            ],
            "image/png": "[encoded data removed]"
          },
          "metadata": {}
        }
      ]
    },
    {
      "cell_type": "markdown",
      "source": [
        "#Evaluation"
      ],
      "metadata": {
        "id": "AMyGwRYJItzd"
      }
    },
    {
      "cell_type": "code",
      "source": [
        "# Define the evaluation function\n",
        "def evaluate_model(model, test_loader):\n",
        "    model.eval()\n",
        "    correct = 0\n",
        "    total = 0\n",
        "\n",
        "    with torch.no_grad():\n",
        "        for data, target in test_loader:\n",
        "            data, target = data.to(device), target.to(device)\n",
        "            outputs = model(data)\n",
        "            _, predicted = outputs.max(1)\n",
        "            correct += predicted.eq(target).sum().item()\n",
        "            total += target.size(0)\n",
        "\n",
        "    print(f\"Test Accuracy: {100. * correct / total:.2f}%\")\n",
        "\n",
        "# Evaluate the model on the new test dataset\n",
        "evaluate_model(model, new_test_loader)"
      ],
      "metadata": {
        "colab": {
          "base_uri": "https://localhost:8080/"
        },
        "id": "D1kFCf79Ivxc",
        "outputId": "61693f8f-9a4c-46de-89ea-8bf611eb545a"
      },
      "execution_count": null,
      "outputs": [
        {
          "output_type": "stream",
          "name": "stdout",
          "text": [
            "Test Accuracy: 99.22%\n"
          ]
        }
      ]
    }
  ]
}