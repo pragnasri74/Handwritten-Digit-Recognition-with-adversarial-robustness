{
  "nbformat": 4,
  "nbformat_minor": 0,
  "metadata": {
    "colab": {
      "provenance": [],
      "gpuType": "T4"
    },
    "kernelspec": {
      "name": "python3",
      "display_name": "Python 3"
    },
    "language_info": {
      "name": "python"
    },
    "accelerator": "GPU"
  },
  "cells": [
    {
      "cell_type": "markdown",
      "source": [
        "# Importing Libraries"
      ],
      "metadata": {
        "id": "GoFinXhSF_qs"
      }
    },
    {
      "cell_type": "code",
      "execution_count": 1,
      "metadata": {
        "id": "WuxEPLrLDRKZ"
      },
      "outputs": [],
      "source": [
        "import torch\n",
        "import torch.nn as nn\n",
        "import torch.optim as optim\n",
        "from torchvision import datasets, transforms\n",
        "from torch.utils.data import DataLoader, TensorDataset"
      ]
    },
    {
      "cell_type": "markdown",
      "source": [
        "# Data Downloading and Feature-Target Separation"
      ],
      "metadata": {
        "id": "O4Irzd-YGIzn"
      }
    },
    {
      "cell_type": "code",
      "source": [
        "transform = transforms.Compose([\n",
        "    transforms.ToTensor(),\n",
        "    transforms.Normalize((0.5,), (0.5,))\n",
        "])\n",
        "\n",
        "\n",
        "train_dataset = datasets.MNIST(root='./data', train=True, transform=transform, download=True)\n",
        "test_dataset = datasets.MNIST(root='./data', train=False, transform=transform, download=True)\n",
        "\n",
        "\n",
        "train_features = train_dataset.data.unsqueeze(1).float() / 255.0\n",
        "train_targets = train_dataset.targets\n",
        "\n",
        "test_features = test_dataset.data.unsqueeze(1).float() / 255.0\n",
        "test_targets = test_dataset.targets\n",
        "\n",
        "train_features = (train_features - 0.5) / 0.5\n",
        "test_features = (test_features - 0.5) / 0.5"
      ],
      "metadata": {
        "colab": {
          "base_uri": "https://localhost:8080/"
        },
        "id": "3qhNwJwSDf2n",
        "outputId": "4afba3d6-5dca-45b8-ffdb-2a29f7b7e3a6"
      },
      "execution_count": 2,
      "outputs": [
        {
          "output_type": "stream",
          "name": "stdout",
          "text": [
            "Downloading http://yann.lecun.com/exdb/mnist/train-images-idx3-ubyte.gz\n",
            "Failed to download (trying next):\n",
            "HTTP Error 403: Forbidden\n",
            "\n",
            "Downloading https://ossci-datasets.s3.amazonaws.com/mnist/train-images-idx3-ubyte.gz\n",
            "Downloading https://ossci-datasets.s3.amazonaws.com/mnist/train-images-idx3-ubyte.gz to ./data/MNIST/raw/train-images-idx3-ubyte.gz\n"
          ]
        },
        {
          "output_type": "stream",
          "name": "stderr",
          "text": [
            "100%|██████████| 9.91M/9.91M [00:02<00:00, 4.58MB/s]\n"
          ]
        },
        {
          "output_type": "stream",
          "name": "stdout",
          "text": [
            "Extracting ./data/MNIST/raw/train-images-idx3-ubyte.gz to ./data/MNIST/raw\n",
            "\n",
            "Downloading http://yann.lecun.com/exdb/mnist/train-labels-idx1-ubyte.gz\n",
            "Failed to download (trying next):\n",
            "HTTP Error 403: Forbidden\n",
            "\n",
            "Downloading https://ossci-datasets.s3.amazonaws.com/mnist/train-labels-idx1-ubyte.gz\n",
            "Downloading https://ossci-datasets.s3.amazonaws.com/mnist/train-labels-idx1-ubyte.gz to ./data/MNIST/raw/train-labels-idx1-ubyte.gz\n"
          ]
        },
        {
          "output_type": "stream",
          "name": "stderr",
          "text": [
            "100%|██████████| 28.9k/28.9k [00:00<00:00, 134kB/s]\n"
          ]
        },
        {
          "output_type": "stream",
          "name": "stdout",
          "text": [
            "Extracting ./data/MNIST/raw/train-labels-idx1-ubyte.gz to ./data/MNIST/raw\n",
            "\n",
            "Downloading http://yann.lecun.com/exdb/mnist/t10k-images-idx3-ubyte.gz\n",
            "Failed to download (trying next):\n",
            "HTTP Error 403: Forbidden\n",
            "\n",
            "Downloading https://ossci-datasets.s3.amazonaws.com/mnist/t10k-images-idx3-ubyte.gz\n",
            "Downloading https://ossci-datasets.s3.amazonaws.com/mnist/t10k-images-idx3-ubyte.gz to ./data/MNIST/raw/t10k-images-idx3-ubyte.gz\n"
          ]
        },
        {
          "output_type": "stream",
          "name": "stderr",
          "text": [
            "100%|██████████| 1.65M/1.65M [00:01<00:00, 1.28MB/s]\n"
          ]
        },
        {
          "output_type": "stream",
          "name": "stdout",
          "text": [
            "Extracting ./data/MNIST/raw/t10k-images-idx3-ubyte.gz to ./data/MNIST/raw\n",
            "\n",
            "Downloading http://yann.lecun.com/exdb/mnist/t10k-labels-idx1-ubyte.gz\n",
            "Failed to download (trying next):\n",
            "HTTP Error 403: Forbidden\n",
            "\n",
            "Downloading https://ossci-datasets.s3.amazonaws.com/mnist/t10k-labels-idx1-ubyte.gz\n",
            "Downloading https://ossci-datasets.s3.amazonaws.com/mnist/t10k-labels-idx1-ubyte.gz to ./data/MNIST/raw/t10k-labels-idx1-ubyte.gz\n"
          ]
        },
        {
          "output_type": "stream",
          "name": "stderr",
          "text": [
            "100%|██████████| 4.54k/4.54k [00:00<00:00, 3.03MB/s]\n"
          ]
        },
        {
          "output_type": "stream",
          "name": "stdout",
          "text": [
            "Extracting ./data/MNIST/raw/t10k-labels-idx1-ubyte.gz to ./data/MNIST/raw\n",
            "\n"
          ]
        }
      ]
    },
    {
      "cell_type": "markdown",
      "source": [
        "# FGSM Attack"
      ],
      "metadata": {
        "id": "eiGquwJ8GNy7"
      }
    },
    {
      "cell_type": "markdown",
      "source": [
        "In Fast Gradient Sign Method (FGSM) adversarial attack, we will calculate the gradient of the loss with respect to the input image and use this to add perturbation to the image in the direction of the gradient sign. The perturbation size is controlled by eps, and the adversarial images are made to stay within valid pixel range."
      ],
      "metadata": {
        "id": "KbP5S7PLGTcu"
      }
    },
    {
      "cell_type": "code",
      "source": [
        "#  FGSM attack function\n",
        "def fgsm_attack(model, images, labels, eps=0.3):\n",
        "    model.eval()\n",
        "    images = images.to(device)\n",
        "    labels = labels.to(device)\n",
        "    images.requires_grad = True\n",
        "\n",
        "    # Forward pass\n",
        "    outputs = model(images)\n",
        "    loss = nn.CrossEntropyLoss()(outputs, labels)\n",
        "\n",
        "    # Backward pass\n",
        "    model.zero_grad()\n",
        "    loss.backward()\n",
        "\n",
        "    # adversarial examples\n",
        "    adv_images = images + eps * images.grad.sign()\n",
        "    adv_images = torch.clamp(adv_images, min=0, max=1).detach()\n",
        "    return adv_images"
      ],
      "metadata": {
        "id": "fZsmtwi9Dsje"
      },
      "execution_count": 3,
      "outputs": []
    },
    {
      "cell_type": "markdown",
      "source": [
        "# CNN model"
      ],
      "metadata": {
        "id": "HNFM3E8MGiw2"
      }
    },
    {
      "cell_type": "code",
      "source": [
        "# Simple CNN model\n",
        "class SimpleCNN(nn.Module):\n",
        "    def __init__(self):\n",
        "        super(SimpleCNN, self).__init__()\n",
        "        self.conv1 = nn.Conv2d(1, 32, kernel_size=5, stride=1, padding=2)  # Output: 28x28x32\n",
        "        self.relu1 = nn.ReLU()\n",
        "        self.pool1 = nn.MaxPool2d(kernel_size=2, stride=2)  # Output: 14x14x32\n",
        "\n",
        "        self.conv2 = nn.Conv2d(32, 64, kernel_size=5, stride=1, padding=2)  # Output: 14x14x64\n",
        "        self.relu2 = nn.ReLU()\n",
        "        self.pool2 = nn.MaxPool2d(kernel_size=2, stride=2)  # Output: 7x7x64\n",
        "\n",
        "        self.fc1 = nn.Linear(7 * 7 * 64, 1024)\n",
        "        self.relu3 = nn.ReLU()\n",
        "        self.fc2 = nn.Linear(1024, 10)\n",
        "\n",
        "    def forward(self, x):\n",
        "        x = self.pool1(self.relu1(self.conv1(x)))\n",
        "        x = self.pool2(self.relu2(self.conv2(x)))\n",
        "        x = x.view(-1, 7 * 7 * 64)  # Flatten\n",
        "        x = self.relu3(self.fc1(x))\n",
        "        x = self.fc2(x)\n",
        "        return x"
      ],
      "metadata": {
        "id": "3WsW_5ZnDvE0"
      },
      "execution_count": 4,
      "outputs": []
    },
    {
      "cell_type": "markdown",
      "source": [
        "# Initialize the model"
      ],
      "metadata": {
        "id": "_infZSi-GpgJ"
      }
    },
    {
      "cell_type": "code",
      "source": [
        "device = torch.device(\"cuda\" if torch.cuda.is_available() else \"cpu\")\n",
        "model = SimpleCNN().to(device)\n",
        "optimizer = optim.Adam(model.parameters(), lr=0.001)\n",
        "criterion = nn.CrossEntropyLoss()"
      ],
      "metadata": {
        "id": "XoWiS3UGDxtF"
      },
      "execution_count": 5,
      "outputs": []
    },
    {
      "cell_type": "markdown",
      "source": [
        "# Clubbing perturbed and clean features"
      ],
      "metadata": {
        "id": "f7D43gLOGvXE"
      }
    },
    {
      "cell_type": "code",
      "source": [
        "# Generating a new dataset with FGSM attack\n",
        "def generate_fgsm_dataset(model, features, targets, eps=0.3):\n",
        "    original_features = features.clone()\n",
        "    targets = targets.clone()\n",
        "\n",
        "    perturbed_features = []\n",
        "    batch_size = 128\n",
        "    model.eval()\n",
        "\n",
        "    for i in range(0, len(features), batch_size):\n",
        "        batch_features = features[i:i + batch_size].to(device)\n",
        "        batch_targets = targets[i:i + batch_size].to(device)\n",
        "        perturbed_batch = fgsm_attack(model, batch_features, batch_targets, eps)\n",
        "        perturbed_features.append(perturbed_batch.cpu())\n",
        "\n",
        "    perturbed_features = torch.cat(perturbed_features, dim=0)\n",
        "\n",
        "    combined_features = torch.cat([original_features, perturbed_features], dim=0)\n",
        "    combined_targets = torch.cat([targets, targets], dim=0)\n",
        "\n",
        "    return TensorDataset(combined_features, combined_targets)\n"
      ],
      "metadata": {
        "id": "Kh8bUHDdD0cG"
      },
      "execution_count": 7,
      "outputs": []
    },
    {
      "cell_type": "code",
      "source": [
        "new_train_dataset = generate_fgsm_dataset(model, train_features, train_targets, eps=0.3)\n",
        "new_test_dataset = generate_fgsm_dataset(model, test_features, test_targets, eps=0.3)\n",
        "\n",
        "new_train_loader = DataLoader(new_train_dataset, batch_size=64, shuffle=True)\n",
        "new_test_loader = DataLoader(new_test_dataset, batch_size=64, shuffle=False)"
      ],
      "metadata": {
        "id": "CX64I8DkD3TV"
      },
      "execution_count": 8,
      "outputs": []
    },
    {
      "cell_type": "markdown",
      "source": [
        "# Training the CNN Model on New Dataset"
      ],
      "metadata": {
        "id": "KuKrt3DIG059"
      }
    },
    {
      "cell_type": "code",
      "source": [
        "# training function\n",
        "def train_model(model, train_loader, epochs=5):\n",
        "    model.train()\n",
        "    epoch_losses = []\n",
        "    epoch_accuracies = []\n",
        "\n",
        "    for epoch in range(epochs):\n",
        "        epoch_loss = 0\n",
        "        correct = 0\n",
        "        total = 0\n",
        "\n",
        "        for data, target in train_loader:\n",
        "            data, target = data.to(device), target.to(device)\n",
        "\n",
        "            optimizer.zero_grad()\n",
        "            outputs = model(data)\n",
        "            loss = criterion(outputs, target)\n",
        "            loss.backward()\n",
        "            optimizer.step()\n",
        "\n",
        "            epoch_loss += loss.item()\n",
        "            _, predicted = outputs.max(1)\n",
        "            total += target.size(0)\n",
        "            correct += predicted.eq(target).sum().item()\n",
        "\n",
        "        # Calculating average loss and accuracy\n",
        "        avg_loss = epoch_loss / len(train_loader)\n",
        "        accuracy = 100. * correct / total\n",
        "\n",
        "        # Storing loss and accuracy for plotting\n",
        "        epoch_losses.append(avg_loss)\n",
        "        epoch_accuracies.append(accuracy)\n",
        "\n",
        "        print(f\"Epoch {epoch + 1}: Loss = {avg_loss:.4f}, Accuracy = {accuracy:.2f}%\")\n",
        "\n",
        "\n",
        "    return epoch_losses, epoch_accuracies"
      ],
      "metadata": {
        "id": "1l8s9FusD7NA"
      },
      "execution_count": 9,
      "outputs": []
    },
    {
      "cell_type": "code",
      "source": [
        "train_model(model, new_train_loader, epochs=5)"
      ],
      "metadata": {
        "colab": {
          "base_uri": "https://localhost:8080/"
        },
        "id": "bW3XH2JKD-76",
        "outputId": "21507dde-ba3f-4869-f96d-a348cc4914b6"
      },
      "execution_count": 10,
      "outputs": [
        {
          "output_type": "stream",
          "name": "stdout",
          "text": [
            "Epoch 1: Loss = 0.0958, Accuracy = 97.02%\n",
            "Epoch 2: Loss = 0.0289, Accuracy = 99.11%\n",
            "Epoch 3: Loss = 0.0186, Accuracy = 99.43%\n",
            "Epoch 4: Loss = 0.0133, Accuracy = 99.58%\n",
            "Epoch 5: Loss = 0.0120, Accuracy = 99.65%\n"
          ]
        },
        {
          "output_type": "execute_result",
          "data": {
            "text/plain": [
              "([0.09579837020007738,\n",
              "  0.028925057118506327,\n",
              "  0.01858394233909057,\n",
              "  0.013303606917018079,\n",
              "  0.012012282686940913],\n",
              " [97.01833333333333, 99.105, 99.43416666666667, 99.58333333333333, 99.65])"
            ]
          },
          "metadata": {},
          "execution_count": 10
        }
      ]
    },
    {
      "cell_type": "markdown",
      "source": [
        "# Evaluation"
      ],
      "metadata": {
        "id": "MpvpgU2KG_Xb"
      }
    },
    {
      "cell_type": "code",
      "source": [
        "def evaluate_model(model, test_loader):\n",
        "    model.eval()\n",
        "    correct = 0\n",
        "    total = 0\n",
        "\n",
        "    with torch.no_grad():\n",
        "        for data, target in test_loader:\n",
        "            data, target = data.to(device), target.to(device)\n",
        "            outputs = model(data)\n",
        "            _, predicted = outputs.max(1)\n",
        "            correct += predicted.eq(target).sum().item()\n",
        "            total += target.size(0)\n",
        "\n",
        "    print(f\"Test Accuracy: {100. * correct / total:.2f}%\")\n",
        "\n",
        "evaluate_model(model, new_test_loader)"
      ],
      "metadata": {
        "colab": {
          "base_uri": "https://localhost:8080/"
        },
        "id": "jlKBZ93rHILb",
        "outputId": "a42d49ca-d89f-4869-87b5-060172c4e5c4"
      },
      "execution_count": 11,
      "outputs": [
        {
          "output_type": "stream",
          "name": "stdout",
          "text": [
            "Test Accuracy: 98.99%\n"
          ]
        }
      ]
    },
    {
      "cell_type": "code",
      "source": [
        "from PIL import Image\n",
        "import torch\n",
        "import torchvision.transforms as transforms\n",
        "\n",
        "image_path = '/content/5.png'\n",
        "image = Image.open(image_path).convert('L')\n",
        "\n",
        "#Preprocessing image\n",
        "transform = transforms.Compose([\n",
        "    transforms.Resize((28, 28)),\n",
        "    transforms.ToTensor(),\n",
        "    transforms.Normalize((0.5,), (0.5,))\n",
        "])\n",
        "image_tensor = transform(image).unsqueeze(0)\n",
        "\n",
        "image_tensor = image_tensor.to(device)\n",
        "\n",
        "\n",
        "model.eval()\n",
        "with torch.no_grad():\n",
        "    output = model(image_tensor)\n",
        "    _, predicted_label = output.max(1)\n",
        "\n",
        "print(f'Predicted Label: {predicted_label.item()}')\n"
      ],
      "metadata": {
        "colab": {
          "base_uri": "https://localhost:8080/"
        },
        "id": "Iz3LSV7wIExe",
        "outputId": "3d56501d-86df-482c-bae8-cef7fcefe516"
      },
      "execution_count": 13,
      "outputs": [
        {
          "output_type": "stream",
          "name": "stdout",
          "text": [
            "Predicted Label: 5\n"
          ]
        }
      ]
    },
    {
      "cell_type": "code",
      "source": [
        "from PIL import Image\n",
        "import torch\n",
        "import torchvision.transforms as transforms\n",
        "import matplotlib.pyplot as plt\n",
        "\n",
        "# Load and preprocess the image\n",
        "image_path = '/content/5.png'\n",
        "image = Image.open(image_path).convert('L')\n",
        "\n",
        "transform = transforms.Compose([\n",
        "    transforms.Resize((28, 28)),  # Resize to 28x28\n",
        "    transforms.ToTensor(),        # Convert to tensor\n",
        "    transforms.Normalize((0.5,), (0.5,))  # Normalize to range [-1, 1]\n",
        "])\n",
        "\n",
        "# Apply transformations\n",
        "image_tensor = transform(image).unsqueeze(0)\n",
        "\n",
        "# Visualize the image before normalization\n",
        "plt.figure(figsize=(4, 4))\n",
        "plt.imshow(image, cmap=\"gray\")\n",
        "plt.title(\"Original Grayscale Image\")\n",
        "plt.axis(\"off\")\n",
        "plt.show()\n",
        "\n",
        "image_tensor = image_tensor.to(device)\n",
        "\n",
        "# Predict using the model\n",
        "model.eval()\n",
        "with torch.no_grad():\n",
        "    output = model(image_tensor)\n",
        "    _, predicted_label = output.max(1)\n",
        "\n",
        "print(f'Predicted Label: {predicted_label.item()}')\n",
        "\n"
      ],
      "metadata": {
        "colab": {
          "base_uri": "https://localhost:8080/",
          "height": 384
        },
        "id": "5eoaW4muQLtC",
        "outputId": "c44260e9-62a0-4b6c-9ac8-4115eb3e5f9e"
      },
      "execution_count": 15,
      "outputs": [
        {
          "output_type": "display_data",
          "data": {
            "text/plain": [
              "<Figure size 400x400 with 1 Axes>"
            ],
            "image/png": "[encoded data removed]"
          },
          "metadata": {}
        },
        {
          "output_type": "stream",
          "name": "stdout",
          "text": [
            "Predicted Label: 5\n"
          ]
        }
      ]
    }
  ]
}